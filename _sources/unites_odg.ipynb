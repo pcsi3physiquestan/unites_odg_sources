{
 "cells": [
  {
   "cell_type": "markdown",
   "id": "21d45c12",
   "metadata": {},
   "source": [
    "# Unités et ordre de grandeur\n",
    "\n",
    "````{admonition} Compétences\n",
    ":class: tip\n",
    "* Savoir exprimer l'unité d'une grandeur donnée en fonction des unités fondamentales du systèmes SI\n",
    "* Savoir reconnaître __rapidement__ le caractère homogène d'une expression mathématique.\n",
    "* Savoir déterminer une formule correcte en utilisant les dimensions des différentes grandeurs\n",
    "* Connaître les valeurs/ordres de grandeurs des constantes fondamentales\n",
    "````"
   ]
  }
 ],
 "metadata": {
  "jupytext": {
   "encoding": "# -*- coding: utf-8 -*-",
   "formats": "ipynb,md:myst",
   "split_at_heading": true,
   "text_representation": {
    "extension": ".md",
    "format_name": "myst",
    "format_version": 0.13,
    "jupytext_version": "1.10.3"
   }
  },
  "kernelspec": {
   "display_name": "Python 3",
   "language": "python",
   "name": "python3"
  },
  "language_info": {
   "codemirror_mode": {
    "name": "ipython",
    "version": 3
   },
   "file_extension": ".py",
   "mimetype": "text/x-python",
   "name": "python",
   "nbconvert_exporter": "python",
   "pygments_lexer": "ipython3",
   "version": "3.7.12"
  },
  "source_map": [
   15
  ]
 },
 "nbformat": 4,
 "nbformat_minor": 5
}