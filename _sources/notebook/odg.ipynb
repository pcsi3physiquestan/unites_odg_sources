{
 "cells": [
  {
   "cell_type": "markdown",
   "id": "98df4fef",
   "metadata": {},
   "source": [
    "# Ordres de grandeur en physique\n",
    "\n",
    "````{topic} Ordres de grandeurs et constantes\n",
    "Les ordres de grandeurs sont cruciaux en physique. Toute grandeur physique possède, dans un cadre théorique donné une gamme de valeur possible. Il est important d'avoir une idée des valeurs acceptables pour savoir si un résultat numérique qu'on a calculé n'est pas obligatoirement faux ou si un résultat numérique est en accord avec les hypothèses que l'on a faite.\n",
    "\n",
    "On peut distinguer deux types d'ordres deux grandeurs à connaître:\n",
    "\n",
    "* __Les constantes fondamentales:__ elle sont souvent en relation avec les limites d'un cadre théorique (la vitesse de la lumière par exemple). Il est important de connaître au moins le premier chiffre et la puissance de dix (en écriture scientifique). Pour les plus courante, il est vivement conseillé de connaître aussi le second chiffre.\n",
    "* __Les grandeurs courantes:__ connaître l'ordre de grandeur de la vitesse d'une voiture, de la vitesse de la Terre autour du Soleil...  ou au moins savoir les retrouver rapidement (comme la distance Terre-Soleil) est important pour pouvoir comparer un résultat numérique à ces ordres de grandeurs. Ici, la connaissance de la puissance de dix correspond suffit (ou d'un intervalle de puissance de dix).\n",
    "````\n",
    "\n",
    "## Constantes fondamentales\n",
    "\n",
    "````{important} __Constantes fondamentales__\n",
    "| Constante | Valeur |\n",
    "| :-|-:|\n",
    "| Célérité de la lumière | $299 792 458 \\rm{m.s^{-1}}$ |\n",
    "| Célérité de la lumière | $299 792 458 \\rm{m.s^{-1}}$ |\n",
    "| Perméabilité magnétique du vide | $4\\pi \\times 10^{-7} \\rm{kg.m.A^{-2}.s^{-2}}$ |\n",
    "| Permittivité diélectrique du vide | $\\frac{1}{\\mu_0\\cdot c^2} = 8,85 \\times 10^{-12} \\rm{A^2.s^4.kg^{-1}.m^{-3}}$ |\n",
    "| Constante de Planck | $6,63 \\times 10^{-34} \\rm{kg.m^2.s^{-1}}$ |\n",
    "| Charge élémentaire | $\\sqrt{\\frac{2h\\alpha}{\\mu_0 c}} = 1,60 \\times 10^{-19} \\rm{A.s}$ |\n",
    "| Constante gravitationnelle | $6,67 \\times 10^{-11} \\rm{m^3.kg^{-1}.s^{-2}}$ |\n",
    "| Unité de masse atomique | $1,66 \\times 10^{-27} \\rm{kg}$ |\n",
    "| Nombre d'Avogadro | $6,02 \\times 10^{23} \\rm{mol^{-1}}$ |\n",
    "| Constante de Boltzmann | $\\frac{R}{N_A}\t1,38 \\times 10^{-23} \\rm{J.K^{-1}}$ |\n",
    "| Température du point triple de l'eau | $273,16 \\rm{K}$ |\n",
    "| Pression standard de l'atmosphère | $101 325 \\rm{Pa}$ |\n",
    "| Constante des gaz parfaits | $8,314 \\rm{J.K^{-1}.mol^{-1}}$ |\n",
    "| Rayon de Bohr | $\\frac{h}{2 \\pi m_\\mathrm{e} c \\alpha} = 5,29 \\times 10^{-11} \\rm{m}$ |\n",
    "| Magnéton de Bohr | $9,27 \\times 10^{-24} \\rm{A.m^2}$ |\n",
    "| Masse du proton | $1,67 \\times 10^{-27} \\rm{kg}$ |\n",
    "| Masse du neutron | $1,67 \\times 10^{-27} \\rm{kg}$ |\n",
    "| Masse de l'électron | $9,11 \\times 10^{-31} \\rm{kg}$ |\n",
    "\n",
    "````"
   ]
  }
 ],
 "metadata": {
  "jupytext": {
   "encoding": "# -*- coding: utf-8 -*-",
   "formats": "ipynb,md:myst",
   "split_at_heading": true,
   "text_representation": {
    "extension": ".md",
    "format_name": "myst",
    "format_version": 0.13,
    "jupytext_version": "1.10.3"
   }
  },
  "kernelspec": {
   "display_name": "Python 3",
   "language": "python",
   "name": "python3"
  },
  "language_info": {
   "codemirror_mode": {
    "name": "ipython",
    "version": 3
   },
   "file_extension": ".py",
   "mimetype": "text/x-python",
   "name": "python",
   "nbconvert_exporter": "python",
   "pygments_lexer": "ipython3",
   "version": "3.7.12"
  },
  "source_map": [
   15
  ]
 },
 "nbformat": 4,
 "nbformat_minor": 5
}